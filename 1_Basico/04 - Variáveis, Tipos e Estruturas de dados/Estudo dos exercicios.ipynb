{
 "cells": [
  {
   "cell_type": "markdown",
   "metadata": {},
   "source": [
    "# Exemplos e estudos"
   ]
  },
  {
   "cell_type": "markdown",
   "metadata": {},
   "source": [
    "## Título: Acessando o Primeiro Elemento de uma Lista"
   ]
  },
  {
   "cell_type": "code",
   "execution_count": 1,
   "metadata": {},
   "outputs": [
    {
     "name": "stdout",
     "output_type": "stream",
     "text": [
      "maçã\n"
     ]
    }
   ],
   "source": [
    "frutas = [\"maçã\", \"banana\", \"laranja\"]\n",
    "print(frutas[0])  # Saída: maçã"
   ]
  },
  {
   "cell_type": "markdown",
   "metadata": {},
   "source": [
    "## Título: Declaração Múltipla de Variáveis"
   ]
  },
  {
   "cell_type": "code",
   "execution_count": 2,
   "metadata": {},
   "outputs": [
    {
     "name": "stdout",
     "output_type": "stream",
     "text": [
      "10\n",
      "20\n",
      "30\n"
     ]
    }
   ],
   "source": [
    "a, b, c = 10, 20, 30\n",
    "print(a)  # Saída: 10\n",
    "print(b)  # Saída: 20\n",
    "print(c)  # Saída: 30"
   ]
  },
  {
   "cell_type": "markdown",
   "metadata": {},
   "source": [
    "# Título: Acessando Valores em um Dicionário"
   ]
  },
  {
   "cell_type": "code",
   "execution_count": 6,
   "metadata": {},
   "outputs": [
    {
     "name": "stdout",
     "output_type": "stream",
     "text": [
      "João\n"
     ]
    }
   ],
   "source": [
    "dicionario = {\"nome\": \"João\", \"idade\": 25, \"cidade\": \"São Paulo\"}\n",
    "print(dicionario[\"nome\"])  # Saída: João"
   ]
  },
  {
   "cell_type": "markdown",
   "metadata": {},
   "source": [
    "## Título: Acessando Caracteres em uma String"
   ]
  },
  {
   "cell_type": "code",
   "execution_count": 7,
   "metadata": {},
   "outputs": [
    {
     "name": "stdout",
     "output_type": "stream",
     "text": [
      "P\n",
      "t\n"
     ]
    }
   ],
   "source": [
    "texto = \"Python\"\n",
    "print(texto[0])  # Saída: P\n",
    "print(texto[2])  # Saída: t"
   ]
  },
  {
   "cell_type": "markdown",
   "metadata": {},
   "source": [
    "## Título: Demonstrando que Tudo é um Objeto"
   ]
  },
  {
   "cell_type": "code",
   "execution_count": 8,
   "metadata": {},
   "outputs": [
    {
     "name": "stdout",
     "output_type": "stream",
     "text": [
      "50\n",
      "OLÁ\n",
      "None\n"
     ]
    }
   ],
   "source": [
    "numero = 42\n",
    "texto = \"Olá\"\n",
    "lista = [1, 2, 3]\n",
    "print(numero.__add__(8))  # Saída: 50\n",
    "print(texto.upper())      # Saída: OLÁ\n",
    "print(lista.append(4))    # Saída: None (mas a lista agora é [1, 2, 3, 4])"
   ]
  },
  {
   "cell_type": "markdown",
   "metadata": {},
   "source": [
    "## Título: Concatenando Listas com o Operador +"
   ]
  },
  {
   "cell_type": "code",
   "execution_count": 9,
   "metadata": {},
   "outputs": [
    {
     "name": "stdout",
     "output_type": "stream",
     "text": [
      "[1, 2, 3, 4, 5, 6]\n"
     ]
    }
   ],
   "source": [
    "lista1 = [1, 2, 3]\n",
    "lista2 = [4, 5, 6]\n",
    "resultado = lista1 + lista2\n",
    "print(resultado)  # Saída: [1, 2, 3, 4, 5, 6]"
   ]
  }
 ],
 "metadata": {
  "kernelspec": {
   "display_name": "Python 3",
   "language": "python",
   "name": "python3"
  },
  "language_info": {
   "codemirror_mode": {
    "name": "ipython",
    "version": 3
   },
   "file_extension": ".py",
   "mimetype": "text/x-python",
   "name": "python",
   "nbconvert_exporter": "python",
   "pygments_lexer": "ipython3",
   "version": "3.13.2"
  }
 },
 "nbformat": 4,
 "nbformat_minor": 2
}
