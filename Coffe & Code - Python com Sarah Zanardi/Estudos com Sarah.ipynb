{
 "cells": [
  {
   "cell_type": "markdown",
   "metadata": {},
   "source": [
    "# Estudos com a Sarah\n"
   ]
  },
  {
   "cell_type": "code",
   "execution_count": null,
   "metadata": {},
   "outputs": [],
   "source": [
    "nome = input(\"Digite seu nome: \")\n",
    "\n",
    "total_dias = input('Quantos dias por semana você estuda? ')\n",
    "\n",
    "total_de_horas = input('Quantas horas por dia você estuda? ')\n",
    "\n",
    "curso = input('Qual curso você está fazendo? ')\n",
    "\n",
    "total_dias = int(total_dias)  # Convertendo para inteiro\n",
    "total_de_horas = int(total_de_horas)  # Convertendo para inteiro\n",
    "\n",
    "print(f'Olá {nome}, você costuma estudar {total_dias} dias por semana, durante mais ou menos {total_de_horas} horas diárias. Isso significa que você estuda em média {total_dias * total_de_horas} horas por semana para o curso {curso}.')"
   ]
  },
  {
   "cell_type": "markdown",
   "metadata": {},
   "source": [
    "## Nesse exercício coletaremos dados de uma estudante, armazenaremos em um dicionário e imprimiremos na tela esse dados em um formato amigável."
   ]
  },
  {
   "cell_type": "markdown",
   "metadata": {},
   "source": [
    "### 1 - Solicite a estudante os seguintes dados: nome, ano que conheceu o LinkedIn, ano atual e os cursos realizados no LinkedIn Learning separados por virgula em ordem cronológica"
   ]
  },
  {
   "cell_type": "code",
   "execution_count": 3,
   "metadata": {},
   "outputs": [],
   "source": [
    "nome = input(\"Digite seu nome: \")\n",
    "ano = input(\"Digite o ano que conheceu o Linkedin: \")\n",
    "ano_atual = input(\"Digite o ano atual: \")\n",
    "cursos_realizados = input(\"Digite os cursos realizados separados por virgula em ordem cronológica: \")"
   ]
  },
  {
   "cell_type": "markdown",
   "metadata": {},
   "source": [
    "### 2 - Armazene esses dados em um dicionário\n"
   ]
  },
  {
   "cell_type": "code",
   "execution_count": 4,
   "metadata": {},
   "outputs": [],
   "source": [
    "dicionario = {\n",
    "    \"nome\": nome,\n",
    "    \"ano\": ano,\n",
    "    \"ano_atual\": ano_atual,\n",
    "    \"cursos_realizados\": cursos_realizados\n",
    "}"
   ]
  },
  {
   "cell_type": "markdown",
   "metadata": {},
   "source": [
    "### 3 - Imprima na tela uma string com as informações de nome, ano_conheceu_linkedin, total de anos transcurridos, total de cursos realizados e (apenas) o primeiro e último curso."
   ]
  },
  {
   "cell_type": "code",
   "execution_count": 5,
   "metadata": {},
   "outputs": [
    {
     "name": "stdout",
     "output_type": "stream",
     "text": [
      "Olá Sarinha, você conheceu o Linkedin em 2022, estamos em 2025 e você já realizou Python, SQL e Gestão cursos na plataforma.\n"
     ]
    }
   ],
   "source": [
    "print(f'Olá {dicionario[\"nome\"]}, você conheceu o Linkedin em {dicionario[\"ano\"]}, estamos em {dicionario[\"ano_atual\"]} e você já realizou {dicionario[\"cursos_realizados\"]} cursos na plataforma.')"
   ]
  }
 ],
 "metadata": {
  "kernelspec": {
   "display_name": "Python 3",
   "language": "python",
   "name": "python3"
  },
  "language_info": {
   "codemirror_mode": {
    "name": "ipython",
    "version": 3
   },
   "file_extension": ".py",
   "mimetype": "text/x-python",
   "name": "python",
   "nbconvert_exporter": "python",
   "pygments_lexer": "ipython3",
   "version": "3.13.2"
  }
 },
 "nbformat": 4,
 "nbformat_minor": 2
}
