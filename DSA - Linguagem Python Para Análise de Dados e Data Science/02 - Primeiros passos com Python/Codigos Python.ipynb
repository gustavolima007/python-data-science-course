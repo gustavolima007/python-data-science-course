{
 "cells": [
  {
   "cell_type": "code",
   "execution_count": 5,
   "id": "7377531a-f00e-4793-bb37-64253249fad8",
   "metadata": {},
   "outputs": [
    {
     "name": "stdout",
     "output_type": "stream",
     "text": [
      "Olá Mundo\n"
     ]
    }
   ],
   "source": [
    "print('Olá Mundo')"
   ]
  },
  {
   "cell_type": "code",
   "execution_count": 4,
   "id": "83eba1b5-d73b-42fe-9918-fab1002de200",
   "metadata": {},
   "outputs": [
    {
     "name": "stdout",
     "output_type": "stream",
     "text": [
      "Olá, Gustavo Ferreira Lima!\n"
     ]
    }
   ],
   "source": [
    "nome = \"Gustavo Ferreira Lima\"\n",
    "print(f\"Olá, {nome}!\")"
   ]
  },
  {
   "cell_type": "markdown",
   "id": "d5b48740-f267-4f32-8322-50df164f7abd",
   "metadata": {},
   "source": [
    "### Loop em python"
   ]
  },
  {
   "cell_type": "code",
   "execution_count": 1,
   "id": "10a4799c-60d2-429c-b059-75ccbeadb703",
   "metadata": {},
   "outputs": [
    {
     "name": "stdout",
     "output_type": "stream",
     "text": [
      "Olá, Gustavo Ferreira Lima! (Repetição 1)\n",
      "Olá, Gustavo Ferreira Lima! (Repetição 2)\n",
      "Olá, Gustavo Ferreira Lima! (Repetição 3)\n",
      "Olá, Gustavo Ferreira Lima! (Repetição 4)\n",
      "Olá, Gustavo Ferreira Lima! (Repetição 5)\n"
     ]
    }
   ],
   "source": [
    "nome = \"Gustavo Ferreira Lima\"\n",
    "\n",
    "for i in range(5):\n",
    "    print(f\"Olá, {nome}! (Repetição {i+1})\")\n"
   ]
  },
  {
   "cell_type": "markdown",
   "id": "d7bc1d1e-1a0a-4b78-96d7-ee018c9126c6",
   "metadata": {},
   "source": [
    "### Gere um codigo python que crie uma lista com os numeros entre 1 a 100 e então imprima os numeros pares, mas somente se o numero for divisivel por 4"
   ]
  },
  {
   "cell_type": "code",
   "execution_count": 1,
   "id": "9b55a4f7-dfdd-43fc-a062-98b9febd67a0",
   "metadata": {},
   "outputs": [],
   "source": [
    "# Criando uma lista com os números de 1 a 100\n",
    "numeros = list(range(1, 101))"
   ]
  },
  {
   "cell_type": "code",
   "execution_count": 7,
   "id": "859e92bc-6b9e-4872-8276-431119f2b411",
   "metadata": {},
   "outputs": [
    {
     "name": "stdout",
     "output_type": "stream",
     "text": [
      "4\n",
      "8\n",
      "12\n",
      "16\n",
      "20\n",
      "24\n",
      "28\n",
      "32\n",
      "36\n",
      "40\n",
      "44\n",
      "48\n",
      "52\n",
      "56\n",
      "60\n",
      "64\n",
      "68\n",
      "72\n",
      "76\n",
      "80\n",
      "84\n",
      "88\n",
      "92\n",
      "96\n",
      "100\n"
     ]
    }
   ],
   "source": [
    "# Percorrendo a lista e verificando os números\n",
    "for num in numeros:\n",
    "    # Verifica se o número é par e divisível por 4\n",
    "    if num % 2 == 0 and num % 4 == 0:\n",
    "        print(num)  # Imprime o número que atende aos critérios"
   ]
  },
  {
   "cell_type": "markdown",
   "id": "61fe06e9-8e4d-4b3e-b99e-2c1195555430",
   "metadata": {},
   "source": [
    "### Gere um codigo python que crie uma lista com os numeros entre 1 a 100 e então imprima os numeros pares, mas somente se o numero for divisivel por 4, usando list comprehension"
   ]
  },
  {
   "cell_type": "code",
   "execution_count": 12,
   "id": "9dbc763b-85f5-4cee-bf90-d6c12923c633",
   "metadata": {},
   "outputs": [],
   "source": [
    "# Criando uma lista com os números de 1 a 100 e filtrando os pares divisíveis por 4 usando list comprehension\n",
    "numeros_filtrados = [num for num in range(1, 101) if num % 2 == 0 and num % 4 == 0]\n"
   ]
  },
  {
   "cell_type": "code",
   "execution_count": 13,
   "id": "9db8fec0-3c18-4e39-8d66-13b196328906",
   "metadata": {},
   "outputs": [
    {
     "name": "stdout",
     "output_type": "stream",
     "text": [
      "[4, 8, 12, 16, 20, 24, 28, 32, 36, 40, 44, 48, 52, 56, 60, 64, 68, 72, 76, 80, 84, 88, 92, 96, 100]\n"
     ]
    }
   ],
   "source": [
    "# Imprimindo os números que atendem aos critérios\n",
    "print(numeros_filtrados)"
   ]
  },
  {
   "cell_type": "markdown",
   "id": "2df49adc-771d-4677-86d7-98fce795a659",
   "metadata": {},
   "source": [
    "### FIM"
   ]
  }
 ],
 "metadata": {
  "kernelspec": {
   "display_name": "Python 3",
   "language": "python",
   "name": "python3"
  },
  "language_info": {
   "codemirror_mode": {
    "name": "ipython",
    "version": 3
   },
   "file_extension": ".py",
   "mimetype": "text/x-python",
   "name": "python",
   "nbconvert_exporter": "python",
   "pygments_lexer": "ipython3",
   "version": "3.13.2"
  }
 },
 "nbformat": 4,
 "nbformat_minor": 5
}
