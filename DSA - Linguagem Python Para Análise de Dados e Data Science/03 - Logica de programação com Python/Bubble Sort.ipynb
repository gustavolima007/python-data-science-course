{
 "cells": [
  {
   "cell_type": "markdown",
   "metadata": {},
   "source": [
    "# Bubble Sort"
   ]
  },
  {
   "cell_type": "markdown",
   "metadata": {},
   "source": [
    "O Bubble Sort é um algoritmo de ordenação simples e intuitivo. Ele funciona comparando repetidamente pares de elementos adjacentes em uma lista e trocando-os se estiverem na ordem errada. Esse processo é repetido até que a lista esteja totalmente ordenada. O nome \"Bubble Sort\" vem do fato de que os elementos \"maiores\" tendem a \"subir\" para o topo da lista, como bolhas em um líquido.\n",
    "\n",
    "Aqui está uma breve explicação de como funciona:\n",
    "\n",
    "Percorre-se a lista, comparando cada par de elementos adjacentes.\n",
    "\n",
    "Se o primeiro elemento for maior que o segundo, eles são trocados de lugar.\n",
    "\n",
    "Esse processo é repetido até que nenhum par precise mais ser trocado."
   ]
  },
  {
   "cell_type": "markdown",
   "metadata": {},
   "source": [
    "### Pseudocódigo"
   ]
  },
  {
   "cell_type": "code",
   "execution_count": null,
   "metadata": {
    "vscode": {
     "languageId": "shellscript"
    }
   },
   "outputs": [],
   "source": [
    "algoritmo BubbleSort(lista)\n",
    "    para i de 0 até tamanho(lista) - 1\n",
    "        para j de 0 até tamanho(lista) - i - 1\n",
    "            se lista[j] > lista[j + 1]\n",
    "                trocar lista[j] e lista[j + 1]\n",
    "    fim-para\n",
    "fim-algoritmo"
   ]
  },
  {
   "cell_type": "markdown",
   "metadata": {},
   "source": [
    "### Bubble Sort em Python"
   ]
  },
  {
   "cell_type": "code",
   "execution_count": 1,
   "metadata": {},
   "outputs": [
    {
     "name": "stdout",
     "output_type": "stream",
     "text": [
      "Lista ordenada: [11, 12, 22, 25, 34, 64, 90]\n"
     ]
    }
   ],
   "source": [
    "def bubble_sort(lista):\n",
    "    n = len(lista)\n",
    "    for i in range(n):\n",
    "        for j in range(0, n-i-1):\n",
    "            if lista[j] > lista[j+1]:\n",
    "                lista[j], lista[j+1] = lista[j+1], lista[j]\n",
    "\n",
    "# Exemplo de uso\n",
    "minha_lista = [64, 34, 25, 12, 22, 11, 90]\n",
    "bubble_sort(minha_lista)\n",
    "print(\"Lista ordenada:\", minha_lista)"
   ]
  }
 ],
 "metadata": {
  "kernelspec": {
   "display_name": "Python 3",
   "language": "python",
   "name": "python3"
  },
  "language_info": {
   "codemirror_mode": {
    "name": "ipython",
    "version": 3
   },
   "file_extension": ".py",
   "mimetype": "text/x-python",
   "name": "python",
   "nbconvert_exporter": "python",
   "pygments_lexer": "ipython3",
   "version": "3.13.2"
  }
 },
 "nbformat": 4,
 "nbformat_minor": 2
}
