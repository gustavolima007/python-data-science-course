{
 "cells": [
  {
   "cell_type": "markdown",
   "id": "455cc204",
   "metadata": {},
   "source": [
    "### Calculadora em Pseudocodigo com funções de soma, subtração, multiplicação e divisão"
   ]
  },
  {
   "cell_type": "code",
   "execution_count": null,
   "id": "f91bbfe1",
   "metadata": {
    "vscode": {
     "languageId": "powershell"
    }
   },
   "outputs": [],
   "source": [
    "# Pseudocódigo para uma calculadora com funções de soma, subtração, multiplicação e divisão\n",
    "\n",
    "# Funções da calculadora\n",
    "\n",
    "# Função para somar dois números\n",
    "funcao somar(numero1, numero2):\n",
    "    retorno numero1 + numero2\n",
    "\n",
    "# Função para subtrair dois números\n",
    "funcao subtrair(numero1, numero2):\n",
    "    retorno numero1 - numero2\n",
    "\n",
    "# Função para multiplicar dois números\n",
    "funcao multiplicar(numero1, numero2):\n",
    "    retorno numero1 * numero2\n",
    "\n",
    "# Função para dividir dois números\n",
    "funcao dividir(numero1, numero2):\n",
    "    se numero2 == 0 entao\n",
    "        escreva(\"Erro: Divisão por zero!\")\n",
    "        retorno 0\n",
    "    fimse\n",
    "    retorno numero1 / numero2"
   ]
  },
  {
   "cell_type": "code",
   "execution_count": null,
   "id": "0b5b8b2f",
   "metadata": {
    "vscode": {
     "languageId": "powershell"
    }
   },
   "outputs": [],
   "source": [
    "\n",
    "# Início do programa\n",
    "\n",
    "# Função principal\n",
    "inicio:\n",
    "    # Solicitar ao usuário que escolha a operação\n",
    "    escreva(\"Escolha a operação:\")\n",
    "    escreva(\"1. Soma\")\n",
    "    escreva(\"2. Subtração\")\n",
    "    escreva(\"3. Multiplicação\")\n",
    "    escreva(\"4. Divisão\")\n",
    "    \n",
    "    leia(operacao)\n",
    "    \n",
    "    # Solicitar os números ao usuário\n",
    "    escreva(\"Digite o primeiro número: \")\n",
    "    leia(numero1)\n",
    "    \n",
    "    escreva(\"Digite o segundo número: \")\n",
    "    leia(numero2)\n",
    "    \n",
    "    # Realizar a operação escolhida e exibir o resultado\n",
    "    se operacao == 1 entao\n",
    "        resultado = somar(numero1, numero2)\n",
    "        escreva(\"O resultado da soma é: \", resultado)\n",
    "    senao se operacao == 2 entao\n",
    "        resultado = subtrair(numero1, numero2)\n",
    "        escreva(\"O resultado da subtração é: \", resultado)\n",
    "    senao se operacao == 3 entao\n",
    "        resultado = multiplicar(numero1, numero2)\n",
    "        escreva(\"O resultado da multiplicação é: \", resultado)\n",
    "    senao se operacao == 4 entao\n",
    "        resultado = dividir(numero1, numero2)\n",
    "        escreva(\"O resultado da divisão é: \", resultado)\n",
    "    senao\n",
    "        escreva(\"Operação inválida!\")\n",
    "    fimse\n",
    "    \n",
    "# Fim do programa\n",
    "fim"
   ]
  },
  {
   "cell_type": "markdown",
   "id": "ce535358",
   "metadata": {},
   "source": [
    "### Calculadora em Python"
   ]
  },
  {
   "cell_type": "code",
   "execution_count": null,
   "id": "5b81c33e",
   "metadata": {},
   "outputs": [],
   "source": [
    "# Funções da calculadora\n",
    "\n",
    "# Função para somar dois números\n",
    "def somar(numero1, numero2):\n",
    "    return numero1 + numero2\n",
    "\n",
    "# Função para subtrair dois números\n",
    "def subtrair(numero1, numero2):\n",
    "    return numero1 - numero2\n",
    "\n",
    "# Função para multiplicar dois números\n",
    "def multiplicar(numero1, numero2):\n",
    "    return numero1 * numero2\n",
    "\n",
    "# Função para dividir dois números\n",
    "def dividir(numero1, numero2):\n",
    "    if numero2 == 0:\n",
    "        return \"Erro: Divisão por zero!\"\n",
    "    return numero1 / numero2\n",
    "\n",
    "# Início do programa\n",
    "\n",
    "# Solicitar ao usuário que escolha a operação\n",
    "print(\"Escolha a operação:\")\n",
    "print(\"1. Soma\")\n",
    "print(\"2. Subtração\")\n",
    "print(\"3. Multiplicação\")\n",
    "print(\"4. Divisão\")\n",
    "\n",
    "operacao = input(\"Digite o número da operação desejada (1/2/3/4): \")\n",
    "\n",
    "# Solicitar os números ao usuário\n",
    "numero1 = float(input(\"Digite o primeiro número: \"))\n",
    "numero2 = float(input(\"Digite o segundo número: \"))\n",
    "\n",
    "# Realizar a operação escolhida e exibir o resultado\n",
    "if operacao == '1':\n",
    "    resultado = somar(numero1, numero2)\n",
    "    print(\"O resultado da soma é:\", resultado)\n",
    "elif operacao == '2':\n",
    "    resultado = subtrair(numero1, numero2)\n",
    "    print(\"O resultado da subtração é:\", resultado)\n",
    "elif operacao == '3':\n",
    "    resultado = multiplicar(numero1, numero2)\n",
    "    print(\"O resultado da multiplicação é:\", resultado)\n",
    "elif operacao == '4':\n",
    "    resultado = dividir(numero1, numero2)\n",
    "    print(\"O resultado da divisão é:\", resultado)\n",
    "else:\n",
    "    print(\"Operação inválida!\")"
   ]
  }
 ],
 "metadata": {
  "kernelspec": {
   "display_name": "Python 3",
   "language": "python",
   "name": "python3"
  },
  "language_info": {
   "codemirror_mode": {
    "name": "ipython",
    "version": 3
   },
   "file_extension": ".py",
   "mimetype": "text/x-python",
   "name": "python",
   "nbconvert_exporter": "python",
   "pygments_lexer": "ipython3",
   "version": "3.13.2"
  }
 },
 "nbformat": 4,
 "nbformat_minor": 5
}
