{
 "cells": [
  {
   "cell_type": "markdown",
   "metadata": {},
   "source": [
    "### Descreva um pseudocodigo para calcular a area de um paralelograma"
   ]
  },
  {
   "cell_type": "code",
   "execution_count": null,
   "metadata": {},
   "outputs": [],
   "source": [
    "# Pseudocódigo para calcular a área de um paralelogramo\n",
    "# Fórmula: Área = base * altura\n",
    "\n",
    "# Início do programa\n",
    "\n",
    "# Função principal\n",
    "inicio:\n",
    "    # Solicitar a base do paralelogramo ao usuário\n",
    "    escreva(\"Digite a base do paralelogramo: \")\n",
    "    leia(base)\n",
    "    \n",
    "    # Solicitar a altura do paralelogramo ao usuário\n",
    "    escreva(\"Digite a altura do paralelogramo: \")\n",
    "    leia(altura)\n",
    "    \n",
    "    # Calcular a área do paralelogramo\n",
    "    area = base * altura\n",
    "    \n",
    "    # Exibir o resultado\n",
    "    escreva(\"A área do paralelogramo é: \", area)\n",
    "    \n",
    "# Fim do programa\n",
    "fim"
   ]
  },
  {
   "cell_type": "markdown",
   "metadata": {},
   "source": [
    "### Calcular a área de um paralelogramo em Python"
   ]
  },
  {
   "cell_type": "code",
   "execution_count": 1,
   "metadata": {},
   "outputs": [],
   "source": [
    "# Função para calcular a área de um paralelogramo\n",
    "def calcular_area_paralelogramo(base, altura):\n",
    "    \"\"\"\n",
    "    Calcula a área de um paralelogramo.\n",
    "    \n",
    "    Parâmetros:\n",
    "    base (float): A base do paralelogramo.\n",
    "    altura (float): A altura do paralelogramo.\n",
    "    \n",
    "    Retorna:\n",
    "    float: A área do paralelogramo.\n",
    "    \"\"\"\n",
    "    return base * altura\n"
   ]
  },
  {
   "cell_type": "code",
   "execution_count": 2,
   "metadata": {},
   "outputs": [],
   "source": [
    "# Solicitar a base do paralelogramo ao usuário\n",
    "base = float(input(\"Digite a base do paralelogramo: \"))"
   ]
  },
  {
   "cell_type": "code",
   "execution_count": 3,
   "metadata": {},
   "outputs": [],
   "source": [
    "# Solicitar a altura do paralelogramo ao usuário\n",
    "altura = float(input(\"Digite a altura do paralelogramo: \"))"
   ]
  },
  {
   "cell_type": "code",
   "execution_count": 4,
   "metadata": {},
   "outputs": [],
   "source": [
    "# Calcular a área do paralelogramo\n",
    "area = calcular_area_paralelogramo(base, altura)"
   ]
  },
  {
   "cell_type": "code",
   "execution_count": 5,
   "metadata": {},
   "outputs": [
    {
     "name": "stdout",
     "output_type": "stream",
     "text": [
      "A área do paralelogramo é: 200.0\n"
     ]
    }
   ],
   "source": [
    "# Exibir o resultado\n",
    "print(\"A área do paralelogramo é:\", area)"
   ]
  }
 ],
 "metadata": {
  "kernelspec": {
   "display_name": "Python 3",
   "language": "python",
   "name": "python3"
  },
  "language_info": {
   "codemirror_mode": {
    "name": "ipython",
    "version": 3
   },
   "file_extension": ".py",
   "mimetype": "text/x-python",
   "name": "python",
   "nbconvert_exporter": "python",
   "pygments_lexer": "ipython3",
   "version": "3.13.2"
  }
 },
 "nbformat": 4,
 "nbformat_minor": 2
}
