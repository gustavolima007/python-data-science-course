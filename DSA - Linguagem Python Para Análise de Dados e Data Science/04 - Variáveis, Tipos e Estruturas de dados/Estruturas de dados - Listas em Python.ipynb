{
 "cells": [
  {
   "cell_type": "markdown",
   "metadata": {},
   "source": [
    "# Estruturas em Python - Listas"
   ]
  },
  {
   "cell_type": "code",
   "execution_count": 2,
   "metadata": {},
   "outputs": [],
   "source": [
    "lista1 = [\"arroz\", \"feijao\", \"macarrao\", \"carne\", \"frango\", \"batata\", \"tomate\",\"frango\", \"batata\", \"tomate\",\"frango\", \"batata\", \"tomate\"]"
   ]
  },
  {
   "cell_type": "code",
   "execution_count": 3,
   "metadata": {},
   "outputs": [
    {
     "data": {
      "text/plain": [
       "list"
      ]
     },
     "execution_count": 3,
     "metadata": {},
     "output_type": "execute_result"
    }
   ],
   "source": [
    "type(lista1)"
   ]
  },
  {
   "cell_type": "code",
   "execution_count": 3,
   "metadata": {},
   "outputs": [
    {
     "name": "stdout",
     "output_type": "stream",
     "text": [
      "['arroz', 'feijao', 'macarrao', 'carne', 'frango', 'batata', 'tomate', 'frango', 'batata', 'tomate', 'frango', 'batata', 'tomate']\n"
     ]
    }
   ],
   "source": [
    "print(lista1)"
   ]
  },
  {
   "cell_type": "code",
   "execution_count": 7,
   "metadata": {},
   "outputs": [],
   "source": [
    "lista2 = [100,200,300,400, \"batata\", \"tomate\",\"frango\", \"batata\", \"tomate\",\"frango\", \"batata\", \"tomate\"]"
   ]
  },
  {
   "cell_type": "code",
   "execution_count": 8,
   "metadata": {},
   "outputs": [
    {
     "name": "stdout",
     "output_type": "stream",
     "text": [
      "[100, 200, 300, 400, 'batata', 'tomate', 'frango', 'batata', 'tomate', 'frango', 'batata', 'tomate']\n"
     ]
    }
   ],
   "source": [
    "print(lista2)"
   ]
  },
  {
   "cell_type": "code",
   "execution_count": 18,
   "metadata": {},
   "outputs": [
    {
     "name": "stdout",
     "output_type": "stream",
     "text": [
      "arroz\n",
      "200\n",
      "\n",
      " chocolate\n",
      "['arroz', 'feijao', 'chocolate', 'carne', 'frango', 'batata', 'tomate', 'frango', 'batata', 'tomate', 'frango', 'batata', 'tomate']\n"
     ]
    }
   ],
   "source": [
    "# Atribuindo cada valor da lista a uma variável\n",
    "\n",
    "item1 = lista1[0]\n",
    "item2 = lista2[1]\n",
    "\n",
    "print(item1)\n",
    "print(item2)\n",
    "\n",
    "item3 = lista1[2] = \"chocolate\"\n",
    "\n",
    "print(\"\\n\",item3)\n",
    "\n",
    "print(lista1)"
   ]
  },
  {
   "cell_type": "code",
   "execution_count": 4,
   "metadata": {},
   "outputs": [
    {
     "name": "stdout",
     "output_type": "stream",
     "text": [
      "['arroz', 'macarrao', 'carne', 'frango', 'batata', 'tomate', 'frango', 'batata', 'tomate', 'frango', 'batata', 'tomate']\n"
     ]
    }
   ],
   "source": [
    "del lista1[1]    \n",
    "\n",
    "print(lista1)"
   ]
  }
 ],
 "metadata": {
  "kernelspec": {
   "display_name": "Python 3",
   "language": "python",
   "name": "python3"
  },
  "language_info": {
   "codemirror_mode": {
    "name": "ipython",
    "version": 3
   },
   "file_extension": ".py",
   "mimetype": "text/x-python",
   "name": "python",
   "nbconvert_exporter": "python",
   "pygments_lexer": "ipython3",
   "version": "3.13.2"
  }
 },
 "nbformat": 4,
 "nbformat_minor": 2
}
