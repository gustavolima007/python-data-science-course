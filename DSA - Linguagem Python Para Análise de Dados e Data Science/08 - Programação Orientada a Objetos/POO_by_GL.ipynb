{
 "cells": [
  {
   "cell_type": "markdown",
   "id": "f45b3d9b",
   "metadata": {},
   "source": [
    "## Estudos em Programação Orientada a Objetos (POO)"
   ]
  },
  {
   "cell_type": "code",
   "execution_count": null,
   "id": "fc21ca99",
   "metadata": {},
   "outputs": [
    {
     "name": "stdout",
     "output_type": "stream",
     "text": [
      "Animal criado: Rex\n",
      "Animal criado: Mimi\n",
      "Este é um cachorro chamado Rex, da raça Labrador.\n",
      "Rex está comendo.\n",
      "Rex está latindo: Au Au!\n",
      "Este é um gato chamado Mimi, de cor Cinza.\n",
      "Mimi está comendo.\n",
      "Mimi está miando: Miau!\n"
     ]
    }
   ],
   "source": [
    "# Criando a classe Animal - Super-classe\n",
    "class Animal:\n",
    "    def __init__(self, nome):\n",
    "        self.nome = nome\n",
    "        print(f\"Animal criado: {self.nome}\")\n",
    "\n",
    "    def imprimir(self):\n",
    "        print(f\"Este é um animal chamado {self.nome}.\")\n",
    "\n",
    "    def comer(self):\n",
    "        print(f\"{self.nome} está comendo.\")\n",
    "\n",
    "    def emitir_som(self):\n",
    "        pass\n",
    "\n",
    "\n",
    "# Criando uma subclasse Cachorro\n",
    "class Cachorro(Animal):\n",
    "    def __init__(self, nome, raca):\n",
    "        super().__init__(nome)  # Chamando o construtor da superclasse\n",
    "        self.raca = raca\n",
    "\n",
    "    def imprimir(self):\n",
    "        print(f\"Este é um cachorro chamado {self.nome}, da raça {self.raca}.\")\n",
    "\n",
    "    def emitir_som(self):\n",
    "        print(f\"{self.nome} está latindo: Au Au!\")\n",
    "\n",
    "\n",
    "# Criando uma subclasse Gato\n",
    "class Gato(Animal):\n",
    "    def __init__(self, nome, cor):\n",
    "        super().__init__(nome)\n",
    "        self.cor = cor\n",
    "\n",
    "    def imprimir(self):\n",
    "        print(f\"Este é um gato chamado {self.nome}, de cor {self.cor}.\")\n",
    "\n",
    "    def emitir_som(self):\n",
    "        print(f\"{self.nome} está miando: Miau!\")\n",
    "\n",
    "\n",
    "# Testando as classes\n",
    "if __name__ == \"__main__\":\n",
    "    # Criando objetos das subclasses\n",
    "    cachorro = Cachorro(\"Rex\", \"Labrador\")\n",
    "    gato = Gato(\"Mimi\", \"Cinza\")"
   ]
  },
  {
   "cell_type": "code",
   "execution_count": 2,
   "id": "d9a5b1f0",
   "metadata": {},
   "outputs": [
    {
     "name": "stdout",
     "output_type": "stream",
     "text": [
      "Este é um cachorro chamado Rex, da raça Labrador.\n",
      "Rex está comendo.\n",
      "Rex está latindo: Au Au!\n",
      "Este é um gato chamado Mimi, de cor Cinza.\n",
      "Mimi está comendo.\n",
      "Mimi está miando: Miau!\n"
     ]
    }
   ],
   "source": [
    "# Usando os métodos das classes\n",
    "cachorro.imprimir()\n",
    "cachorro.comer()\n",
    "cachorro.emitir_som()\n",
    "\n",
    "gato.imprimir()\n",
    "gato.comer()\n",
    "gato.emitir_som()\n"
   ]
  },
  {
   "cell_type": "markdown",
   "id": "c9f6791a",
   "metadata": {},
   "source": [
    "## Polimorfismo"
   ]
  },
  {
   "cell_type": "code",
   "execution_count": null,
   "id": "202e3f0f",
   "metadata": {},
   "outputs": [],
   "source": [
    "## Polimorfismo"
   ]
  }
 ],
 "metadata": {
  "kernelspec": {
   "display_name": "Python 3",
   "language": "python",
   "name": "python3"
  },
  "language_info": {
   "codemirror_mode": {
    "name": "ipython",
    "version": 3
   },
   "file_extension": ".py",
   "mimetype": "text/x-python",
   "name": "python",
   "nbconvert_exporter": "python",
   "pygments_lexer": "ipython3",
   "version": "3.13.2"
  }
 },
 "nbformat": 4,
 "nbformat_minor": 5
}
